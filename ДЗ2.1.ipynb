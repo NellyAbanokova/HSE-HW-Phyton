{
 "cells": [
  {
   "cell_type": "code",
   "execution_count": 1,
   "id": "e32b5711-fa56-43cc-9dfa-0c71b87659e7",
   "metadata": {},
   "outputs": [
    {
     "name": "stdout",
     "output_type": "stream",
     "text": [
      "Результат: t\n"
     ]
    }
   ],
   "source": [
    "# Входное слово\n",
    "word = 'testing'   # можешь заменить на своё слово\n",
    "\n",
    "# Находим длину слова\n",
    "length = len(word)\n",
    "\n",
    "# Проверяем, чётное или нечётное количество букв\n",
    "if length % 2 == 0:\n",
    "    # Если чётное — берём две средние буквы\n",
    "    middle_letters = word[length // 2 - 1 : length // 2 + 1]\n",
    "else:\n",
    "    # Если нечётное — берём одну среднюю букву\n",
    "    middle_letters = word[length // 2]\n",
    "\n",
    "# Выводим результат\n",
    "print(f\"Результат: {middle_letters}\")"
   ]
  },
  {
   "cell_type": "code",
   "execution_count": null,
   "id": "6e749965-7584-4660-aff8-d88371ea6bf8",
   "metadata": {},
   "outputs": [],
   "source": []
  }
 ],
 "metadata": {
  "kernelspec": {
   "display_name": "Python [conda env:base] *",
   "language": "python",
   "name": "conda-base-py"
  },
  "language_info": {
   "codemirror_mode": {
    "name": "ipython",
    "version": 3
   },
   "file_extension": ".py",
   "mimetype": "text/x-python",
   "name": "python",
   "nbconvert_exporter": "python",
   "pygments_lexer": "ipython3",
   "version": "3.13.5"
  }
 },
 "nbformat": 4,
 "nbformat_minor": 5
}
