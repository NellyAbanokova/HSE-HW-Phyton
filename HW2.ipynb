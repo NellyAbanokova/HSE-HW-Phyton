{
 "cells": [
  {
   "cell_type": "code",
   "execution_count": 9,
   "id": "01201ae2-b6fb-44ef-8452-e5a8ba5b95dd",
   "metadata": {},
   "outputs": [
    {
     "name": "stdout",
     "output_type": "stream",
     "text": [
      "The Moscow Times: 2002-10-02 00:00:00\n",
      "The Guardian: 2013-10-11 00:00:00\n",
      "Daily News: 1977-08-18 00:00:00\n"
     ]
    }
   ],
   "source": [
    "from datetime import datetime\n",
    "dates = {\n",
    "    \"The Moscow Times\": \"Wednesday, October 2, 2002\",\n",
    "    \"The Guardian\": \"Friday, 11.10.13\",\n",
    "    \"Daily News\": \"Thursday, 18 August 1977\"\n",
    "}\n",
    "\n",
    "# Форматы дат\n",
    "formats = {\n",
    "    \"The Moscow Times\": \"%A, %B %d, %Y\",   # День недели, месяц (словом), день, год\n",
    "    \"The Guardian\": \"%A, %d.%m.%y\",        # День недели, день.месяц.год (2 цифры)\n",
    "    \"Daily News\": \"%A, %d %B %Y\"           # День недели, день месяц (словом) год\n",
    "}\n",
    "\n",
    "# Обработка и вывод\n",
    "for paper, date_str in dates.items():\n",
    "    date_obj = datetime.strptime(date_str, formats[paper])\n",
    "    print(f\"{paper}: {date_obj}\")"
   ]
  },
  {
   "cell_type": "code",
   "execution_count": 8,
   "id": "64e56f73-3e01-4dbc-9ca7-31579e04ef3e",
   "metadata": {},
   "outputs": [
    {
     "name": "stdout",
     "output_type": "stream",
     "text": [
      "2025-10-17 00:14:57.789115\n"
     ]
    }
   ],
   "source": [
    "import datetime\n",
    "print(datetime.datetime.now())"
   ]
  },
  {
   "cell_type": "code",
   "execution_count": null,
   "id": "13013efc-4dd3-49b7-876f-9f83e1597c36",
   "metadata": {},
   "outputs": [],
   "source": []
  }
 ],
 "metadata": {
  "kernelspec": {
   "display_name": "Python [conda env:base] *",
   "language": "python",
   "name": "conda-base-py"
  },
  "language_info": {
   "codemirror_mode": {
    "name": "ipython",
    "version": 3
   },
   "file_extension": ".py",
   "mimetype": "text/x-python",
   "name": "python",
   "nbconvert_exporter": "python",
   "pygments_lexer": "ipython3",
   "version": "3.13.5"
  }
 },
 "nbformat": 4,
 "nbformat_minor": 5
}
