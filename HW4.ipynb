{
 "cells": [
  {
   "cell_type": "code",
   "execution_count": 7,
   "id": "c534ad77-9bd8-4b17-b08b-0534150db0c6",
   "metadata": {},
   "outputs": [],
   "source": [
    "import re\n",
    "\n",
    "def check_car_id(car_id: str):\n",
    "    \"\"\"\n",
    "    Проверяет, является ли строка корректным автомобильным номером РФ.\n",
    "    Формат: 1 буква, 3 цифры, 2 буквы, 2–3 цифры (регион).\n",
    "    \"\"\"\n",
    "\n",
    "    # Разрешённые буквы в автомобильных номерах РФ\n",
    "    allowed_letters = \"АВЕКМНОРСТУХ\"\n",
    "\n",
    "    # Регулярное выражение для проверки\n",
    "    pattern = rf\"^([{allowed_letters}])(\\d{{3}})([{allowed_letters}]{{2}})(\\d{{2,3}})$\"\n",
    "\n",
    "    match = re.match(pattern, car_id)\n",
    "\n",
    "    if match:\n",
    "        number = match.group(1) + match.group(2) + match.group(3)\n",
    "        region = match.group(4)\n",
    "        print(f\"Номер {number} валиден. Регион: {region}.\")\n",
    "    else:\n",
    "        print(\"Номер не валиден.\")"
   ]
  },
  {
   "cell_type": "code",
   "execution_count": 8,
   "id": "956cf68d-1556-479c-8576-85b677c1f212",
   "metadata": {},
   "outputs": [
    {
     "name": "stdout",
     "output_type": "stream",
     "text": [
      "Номер А222ВС валиден. Регион: 96.\n",
      "None\n"
     ]
    }
   ],
   "source": [
    "print(check_car_id('А222ВС96'))"
   ]
  },
  {
   "cell_type": "code",
   "execution_count": 9,
   "id": "5cc5cc5d-354e-4154-b69c-dbb27040dc1a",
   "metadata": {},
   "outputs": [
    {
     "name": "stdout",
     "output_type": "stream",
     "text": [
      "Номер не валиден.\n",
      "Номер А222ВС валиден. Регион: 96.\n",
      "None\n",
      "None\n"
     ]
    }
   ],
   "source": [
    "print(check_car_id('А222ВЦ96'))"
   ]
  },
  {
   "cell_type": "code",
   "execution_count": null,
   "id": "5fce3278-596c-4eb0-8388-bbcaac84ff40",
   "metadata": {},
   "outputs": [],
   "source": []
  },
  {
   "cell_type": "code",
   "execution_count": null,
   "id": "b9794522-c249-45cc-93c7-4a54f28d3e9c",
   "metadata": {},
   "outputs": [],
   "source": []
  }
 ],
 "metadata": {
  "kernelspec": {
   "display_name": "Python [conda env:base] *",
   "language": "python",
   "name": "conda-base-py"
  },
  "language_info": {
   "codemirror_mode": {
    "name": "ipython",
    "version": 3
   },
   "file_extension": ".py",
   "mimetype": "text/x-python",
   "name": "python",
   "nbconvert_exporter": "python",
   "pygments_lexer": "ipython3",
   "version": "3.13.5"
  }
 },
 "nbformat": 4,
 "nbformat_minor": 5
}
