{
 "cells": [
  {
   "cell_type": "code",
   "execution_count": 2,
   "id": "531ef7fa-04e5-4179-8465-ebf2249c3ef3",
   "metadata": {},
   "outputs": [
    {
     "name": "stdout",
     "output_type": "stream",
     "text": [
      "{98, 35, 15, 213, 54, 119}\n"
     ]
    }
   ],
   "source": [
    "ids = {'user1': [213, 213, 213, 15, 213],\n",
    "    'user2': [54, 54, 119, 119, 119],\n",
    "    'user3': [213, 98, 98, 35]}\n",
    "\n",
    "# Создаём пустое множество для хранения уникальных геометок\n",
    "unique_geo = set()\n",
    "\n",
    "# Проходим по всем значениям словаря\n",
    "for geo_list in ids.values():\n",
    "  \n",
    "    unique_geo.update(geo_list)\n",
    "print(unique_geo)"
   ]
  },
  {
   "cell_type": "code",
   "execution_count": null,
   "id": "3fce58da-4fd5-498e-9144-a2bfb2cdffcd",
   "metadata": {},
   "outputs": [],
   "source": []
  }
 ],
 "metadata": {
  "kernelspec": {
   "display_name": "Python [conda env:base] *",
   "language": "python",
   "name": "conda-base-py"
  },
  "language_info": {
   "codemirror_mode": {
    "name": "ipython",
    "version": 3
   },
   "file_extension": ".py",
   "mimetype": "text/x-python",
   "name": "python",
   "nbconvert_exporter": "python",
   "pygments_lexer": "ipython3",
   "version": "3.13.5"
  }
 },
 "nbformat": 4,
 "nbformat_minor": 5
}
