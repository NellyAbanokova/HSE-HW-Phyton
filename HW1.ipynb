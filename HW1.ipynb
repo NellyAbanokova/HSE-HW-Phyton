{
 "cells": [
  {
   "cell_type": "code",
   "execution_count": 2,
   "id": "66a18d23-46e8-427f-b790-1d1ea052db12",
   "metadata": {},
   "outputs": [
    {
     "name": "stdout",
     "output_type": "stream",
     "text": [
      "{\"category\": \"Продукты\", \"user_id\": \"1840e0b9d4\"}\n",
      "{\"user_id\": \"df85c3cd61\", \"category\": \"Бытовая техника\"}\n"
     ]
    }
   ],
   "source": [
    "purchases = {}\n",
    "\n",
    "with open('purchase_log.txt', 'r', encoding='utf-8') as f:\n",
    "    next(f)  # пропускаем заголовок\n",
    "    for line in f:\n",
    "        user_id, category = line.strip().split(' ', 1)\n",
    "        purchases[user_id] = category\n",
    "\n",
    "# Проверим результат — выведем первые два элемента словаря\n",
    "for i, (user_id, category) in enumerate(purchases.items()):\n",
    "    print(user_id, category)\n",
    "    if i == 1:\n",
    "        break"
   ]
  },
  {
   "cell_type": "code",
   "execution_count": null,
   "id": "eb046dd7-59c9-4b9b-882d-62004108ee39",
   "metadata": {},
   "outputs": [],
   "source": []
  }
 ],
 "metadata": {
  "kernelspec": {
   "display_name": "Python [conda env:base] *",
   "language": "python",
   "name": "conda-base-py"
  },
  "language_info": {
   "codemirror_mode": {
    "name": "ipython",
    "version": 3
   },
   "file_extension": ".py",
   "mimetype": "text/x-python",
   "name": "python",
   "nbconvert_exporter": "python",
   "pygments_lexer": "ipython3",
   "version": "3.13.5"
  }
 },
 "nbformat": 4,
 "nbformat_minor": 5
}
