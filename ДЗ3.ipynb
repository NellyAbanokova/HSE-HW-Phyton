{
 "cells": [
  {
   "cell_type": "code",
   "execution_count": null,
   "id": "c01040c7-efb9-497a-b0be-3451dec3e6ee",
   "metadata": {},
   "outputs": [
    {
     "name": "stdin",
     "output_type": "stream",
     "text": [
      "Введите команду ('p' — узнать владельца, 'q' — выход):  p\n"
     ]
    }
   ],
   "source": [
    "documents = [{'type': 'passport', 'number': '2207 876234', 'name': 'Василий Гупкин'},\n",
    "    {'type': 'invoice', 'number': '11-2', 'name': 'Геннадий Покемонов'},\n",
    "    {'type': 'insurance', 'number': '10006', 'name': 'Аристарх Павлов'}]\n",
    "directories = {'1': ['2207 876234', '11-2'],'2': ['10006'],'3': []}\n",
    "\n",
    "#Функции\n",
    "def get_owner_by_number(doc_number):\n",
    "    for document in documents:\n",
    "        if document['number'] == doc_number:\n",
    "            return document['name']\n",
    "    return None\n",
    "\n",
    "def main():\n",
    "    while True:\n",
    "        command = input(\"Введите команду ('p' — узнать владельца, 'q' — выход): \").strip().lower()\n",
    "\n",
    "        if command == 'p':\n",
    "            doc_number = input(\"Введите номер документа: \").strip()\n",
    "            owner = get_owner_by_number(doc_number)\n",
    "            if owner:\n",
    "                print(f\"Владелец документа: {owner}\")\n",
    "            else:\n",
    "                print(\"Документ с таким номером не найден.\")\n",
    "\n",
    "        elif command == 'q':\n",
    "            print(\"Работа программы завершена.\")\n",
    "            break\n",
    "\n",
    "        else:\n",
    "            print(\"Неизвестная команда. Попробуйте снова.\")\n",
    "main()"
   ]
  },
  {
   "cell_type": "code",
   "execution_count": null,
   "id": "b1c2075d-375b-4d6c-8840-b1d5245f770d",
   "metadata": {},
   "outputs": [],
   "source": []
  }
 ],
 "metadata": {
  "kernelspec": {
   "display_name": "Python [conda env:base] *",
   "language": "python",
   "name": "conda-base-py"
  },
  "language_info": {
   "codemirror_mode": {
    "name": "ipython",
    "version": 3
   },
   "file_extension": ".py",
   "mimetype": "text/x-python",
   "name": "python",
   "nbconvert_exporter": "python",
   "pygments_lexer": "ipython3",
   "version": "3.13.5"
  }
 },
 "nbformat": 4,
 "nbformat_minor": 5
}
